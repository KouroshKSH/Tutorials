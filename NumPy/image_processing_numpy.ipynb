{
 "cells": [
  {
   "cell_type": "markdown",
   "metadata": {},
   "source": [
    "# Image Processing Using NumPy\n",
    "General outline of this Jupyter notebook:\n",
    "1. Introduction: Introduction to [NumPy](https://numpy.org/) and its importance in data manipulation and scientific computing\n",
    "2. Installation: Instructions on how to install NumPy using [pip](https://pypi.org/project/pip/) or [conda](https://anaconda.org/anaconda/conda)\n",
    "3. Basics of NumPy:\n",
    "   - Creating arrays\n",
    "   - Accessing and modifying array elements\n",
    "   - Basic operations on arrays (addition, subtraction, multiplication, etc.)\n",
    "4. Manipulating arrays:\n",
    "   - Reshaping arrays\n",
    "   - Stacking and splitting arrays\n",
    "   - Broadcasting\n",
    "5. Advanced NumPy:\n",
    "   - Universal functions\n",
    "   - Indexing and slicing\n",
    "   - Boolean arrays and masks\n",
    "6. Real-world application:\n",
    "   - Using NumPy to manipulate images\n",
    "7. Conclusion: Summarization of the key concepts"
   ]
  },
  {
   "cell_type": "markdown",
   "metadata": {},
   "source": [
    "## 6) Basic Image Manipulation\n",
    "\n",
    "In this tutorial, we will explore the basic image manipulation capabilities of the NumPy library in Python. We'll perform various operations on an image using NumPy arrays and functions.\n",
    "\n",
    "### Importing Required Libraries\n",
    "First, let's import the necessary libraries, which are:\n",
    "1. NumPy\n",
    "2. Matplotlib\n",
    "\n",
    "> A seperate tutorial will cover the Matplotlib library, which can be found [here](https://github.com/KouroshKSH/Tutorials)."
   ]
  },
  {
   "cell_type": "code",
   "execution_count": null,
   "metadata": {},
   "outputs": [],
   "source": [
    "import numpy as np\n",
    "import matplotlib.pyplot as plt"
   ]
  },
  {
   "cell_type": "markdown",
   "metadata": {},
   "source": [
    "### Loading the Image\n",
    "We'll start by loading the image that we want to manipulate. Make sure the image file is in the same directory as this Jupyter Notebook. In this example, we will use a picture from one of Sabanci University's buildings, the _University Center_."
   ]
  },
  {
   "cell_type": "code",
   "execution_count": null,
   "metadata": {},
   "outputs": [],
   "source": [
    "image = plt.imread('/img/Sabanci_university_UniCenter.jpg')"
   ]
  }
 ],
 "metadata": {
  "interpreter": {
   "hash": "e7370f93d1d0cde622a1f8e1c04877d8463912d04d973331ad4851f04de6915a"
  },
  "kernelspec": {
   "display_name": "Python 3.10.9 64-bit",
   "language": "python",
   "name": "python3"
  },
  "language_info": {
   "name": "python",
   "version": "3.10.9"
  },
  "orig_nbformat": 4
 },
 "nbformat": 4,
 "nbformat_minor": 2
}
